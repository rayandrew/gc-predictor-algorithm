{
 "cells": [
  {
   "cell_type": "code",
   "execution_count": null,
   "metadata": {},
   "outputs": [],
   "source": [
    "import pandas as pd\n",
    "import matplotlib.pyplot as plt"
   ]
  },
  {
   "cell_type": "code",
   "execution_count": null,
   "metadata": {},
   "outputs": [],
   "source": [
    "pd.set_option('display.max_rows', 500)\n",
    "pd.set_option('display.max_columns', 500)"
   ]
  },
  {
   "cell_type": "code",
   "execution_count": null,
   "metadata": {},
   "outputs": [],
   "source": [
    "renaissance_dataset = pd.read_csv('../data/new_parse/renaissance.csv')"
   ]
  },
  {
   "cell_type": "code",
   "execution_count": null,
   "metadata": {},
   "outputs": [],
   "source": [
    "renaissance_dataset"
   ]
  },
  {
   "cell_type": "code",
   "execution_count": null,
   "metadata": {},
   "outputs": [],
   "source": [
    "renaissance_dataset[[\n",
    "#     'allocation_size',                  \n",
    "#     'young_gen_total_objects',\n",
    "#     'stringtable_size',\n",
    "#     'prune_nmethod_time',\n",
    "#     'stringtable_time',\n",
    "#     'young_gen_gc_time',\n",
    "#     'young_gen_heap_used',\n",
    "#     'young_gen_heap_free',\n",
    "    'gc_id',\n",
    "    'old_to_young_roots_task_distance',\n",
    "    'old_to_young_roots_task_iteration_counter',\n",
    "    'old_to_young_roots_task_time',\n",
    "    'gc_time_clean',\n",
    "    'gc_time',\n",
    "]][:100]"
   ]
  },
  {
   "cell_type": "code",
   "execution_count": null,
   "metadata": {},
   "outputs": [],
   "source": [
    "renaissance_dataset['gc_time'].iloc[1300:][renaissance_dataset['gc_time'] < 1500].plot(figsize=(12, 10), linewidth=2.5)\n",
    "plt.xlabel(\"GC ID\", labelpad=15)\n",
    "plt.ylabel(\"GC Time\", labelpad=15)\n",
    "plt.title(\"Renaissance\", y=1.02, fontsize=22)"
   ]
  },
  {
   "cell_type": "code",
   "execution_count": null,
   "metadata": {},
   "outputs": [],
   "source": []
  }
 ],
 "metadata": {
  "kernelspec": {
   "display_name": "Python 3",
   "language": "python",
   "name": "python3"
  },
  "language_info": {
   "codemirror_mode": {
    "name": "ipython",
    "version": 3
   },
   "file_extension": ".py",
   "mimetype": "text/x-python",
   "name": "python",
   "nbconvert_exporter": "python",
   "pygments_lexer": "ipython3",
   "version": "3.7.6"
  }
 },
 "nbformat": 4,
 "nbformat_minor": 4
}
