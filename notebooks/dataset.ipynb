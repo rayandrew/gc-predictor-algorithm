{
 "cells": [
  {
   "cell_type": "code",
   "execution_count": 1,
   "metadata": {},
   "outputs": [],
   "source": [
    "import pandas as pd\n",
    "import matplotlib.pyplot as plt"
   ]
  },
  {
   "cell_type": "code",
   "execution_count": 2,
   "metadata": {},
   "outputs": [],
   "source": [
    "# pd.set_option('display.max_rows', 500)\n",
    "# pd.set_option('display.max_columns', 500)"
   ]
  },
  {
   "cell_type": "code",
   "execution_count": 3,
   "metadata": {},
   "outputs": [],
   "source": [
    "renaissance_dataset = pd.read_csv('../data/single_thread_512M/renaissance.csv')"
   ]
  },
  {
   "cell_type": "code",
   "execution_count": 14,
   "metadata": {},
   "outputs": [
    {
     "data": {
      "text/plain": [
       "Index(['gc_id', 'allocation_size', 'phases', 'parallel_workers',\n",
       "       'young_gen_live_objects', 'young_gen_dead_objects',\n",
       "       'young_gen_total_objects', 'young_gen_roots_walk_elapsed',\n",
       "       'old_gen_live_objects', 'old_gen_dead_objects', 'old_gen_total_objects',\n",
       "       'old_gen_roots_walk_elapsed', 'young_gen_heap_capacity',\n",
       "       'young_gen_heap_used', 'young_gen_heap_free', 'old_gen_heap_capacity',\n",
       "       'old_gen_heap_used', 'old_gen_heap_free', 'stringtable_size',\n",
       "       'stringtable_processed', 'stringtable_removed',\n",
       "       'prune_nmethod_pointer_count', 'young_gen_gc_time', 'old_gen_gc_time',\n",
       "       'otyrt_stripe_total', 'otyrt_ssize', 'otyrt_start_card',\n",
       "       'otyrt_end_card', 'otyrt_slice_width', 'otyrt_distance',\n",
       "       'otyrt_slice_counter', 'otyrt_dirty_card_counter',\n",
       "       'otyrt_objects_scanned_counter', 'otyrt_card_increment_counter',\n",
       "       'otyrt_total_max_card_pointer_being_walked_through', 'otyrt_time',\n",
       "       'stringtable_time', 'prune_nmethod_time', 'gc_time_clean', 'gc_time'],\n",
       "      dtype='object')"
      ]
     },
     "execution_count": 14,
     "metadata": {},
     "output_type": "execute_result"
    }
   ],
   "source": [
    "renaissance_dataset.columns"
   ]
  },
  {
   "cell_type": "code",
   "execution_count": 15,
   "metadata": {},
   "outputs": [
    {
     "data": {
      "text/html": [
       "<div>\n",
       "<style scoped>\n",
       "    .dataframe tbody tr th:only-of-type {\n",
       "        vertical-align: middle;\n",
       "    }\n",
       "\n",
       "    .dataframe tbody tr th {\n",
       "        vertical-align: top;\n",
       "    }\n",
       "\n",
       "    .dataframe thead th {\n",
       "        text-align: right;\n",
       "    }\n",
       "</style>\n",
       "<table border=\"1\" class=\"dataframe\">\n",
       "  <thead>\n",
       "    <tr style=\"text-align: right;\">\n",
       "      <th></th>\n",
       "      <th>young_gen_total_objects</th>\n",
       "      <th>old_gen_total_objects</th>\n",
       "      <th>old_gen_gc_time</th>\n",
       "      <th>gc_time</th>\n",
       "    </tr>\n",
       "  </thead>\n",
       "  <tbody>\n",
       "    <tr>\n",
       "      <th>7930</th>\n",
       "      <td>0.0</td>\n",
       "      <td>31668.0</td>\n",
       "      <td>420.843</td>\n",
       "      <td>420.892</td>\n",
       "    </tr>\n",
       "    <tr>\n",
       "      <th>7931</th>\n",
       "      <td>0.0</td>\n",
       "      <td>31668.0</td>\n",
       "      <td>390.598</td>\n",
       "      <td>390.637</td>\n",
       "    </tr>\n",
       "    <tr>\n",
       "      <th>7932</th>\n",
       "      <td>0.0</td>\n",
       "      <td>31695.0</td>\n",
       "      <td>366.058</td>\n",
       "      <td>366.095</td>\n",
       "    </tr>\n",
       "    <tr>\n",
       "      <th>7933</th>\n",
       "      <td>0.0</td>\n",
       "      <td>31660.0</td>\n",
       "      <td>366.994</td>\n",
       "      <td>367.054</td>\n",
       "    </tr>\n",
       "    <tr>\n",
       "      <th>7934</th>\n",
       "      <td>0.0</td>\n",
       "      <td>31670.0</td>\n",
       "      <td>409.264</td>\n",
       "      <td>409.311</td>\n",
       "    </tr>\n",
       "    <tr>\n",
       "      <th>...</th>\n",
       "      <td>...</td>\n",
       "      <td>...</td>\n",
       "      <td>...</td>\n",
       "      <td>...</td>\n",
       "    </tr>\n",
       "    <tr>\n",
       "      <th>9425</th>\n",
       "      <td>0.0</td>\n",
       "      <td>32158.0</td>\n",
       "      <td>397.228</td>\n",
       "      <td>397.275</td>\n",
       "    </tr>\n",
       "    <tr>\n",
       "      <th>9426</th>\n",
       "      <td>0.0</td>\n",
       "      <td>32122.0</td>\n",
       "      <td>379.694</td>\n",
       "      <td>379.756</td>\n",
       "    </tr>\n",
       "    <tr>\n",
       "      <th>9427</th>\n",
       "      <td>0.0</td>\n",
       "      <td>31984.0</td>\n",
       "      <td>425.537</td>\n",
       "      <td>425.599</td>\n",
       "    </tr>\n",
       "    <tr>\n",
       "      <th>9428</th>\n",
       "      <td>0.0</td>\n",
       "      <td>32009.0</td>\n",
       "      <td>417.129</td>\n",
       "      <td>417.166</td>\n",
       "    </tr>\n",
       "    <tr>\n",
       "      <th>9429</th>\n",
       "      <td>0.0</td>\n",
       "      <td>31844.0</td>\n",
       "      <td>453.224</td>\n",
       "      <td>453.283</td>\n",
       "    </tr>\n",
       "  </tbody>\n",
       "</table>\n",
       "<p>1500 rows × 4 columns</p>\n",
       "</div>"
      ],
      "text/plain": [
       "      young_gen_total_objects  old_gen_total_objects  old_gen_gc_time  gc_time\n",
       "7930                      0.0                31668.0          420.843  420.892\n",
       "7931                      0.0                31668.0          390.598  390.637\n",
       "7932                      0.0                31695.0          366.058  366.095\n",
       "7933                      0.0                31660.0          366.994  367.054\n",
       "7934                      0.0                31670.0          409.264  409.311\n",
       "...                       ...                    ...              ...      ...\n",
       "9425                      0.0                32158.0          397.228  397.275\n",
       "9426                      0.0                32122.0          379.694  379.756\n",
       "9427                      0.0                31984.0          425.537  425.599\n",
       "9428                      0.0                32009.0          417.129  417.166\n",
       "9429                      0.0                31844.0          453.224  453.283\n",
       "\n",
       "[1500 rows x 4 columns]"
      ]
     },
     "execution_count": 15,
     "metadata": {},
     "output_type": "execute_result"
    }
   ],
   "source": [
    "renaissance_dataset.iloc[-1500:][['young_gen_total_objects', 'old_gen_total_objects', 'old_gen_gc_time', 'gc_time']]"
   ]
  },
  {
   "cell_type": "code",
   "execution_count": 16,
   "metadata": {},
   "outputs": [],
   "source": [
    "young_gen_renaissance_dataset = renaissance_dataset.query(\"young_gen_total_objects > 0\")"
   ]
  },
  {
   "cell_type": "code",
   "execution_count": 18,
   "metadata": {},
   "outputs": [],
   "source": [
    "young_gen_renaissance_dataset.to_csv('../data/single_thread_512M/young_gen.csv')"
   ]
  },
  {
   "cell_type": "code",
   "execution_count": null,
   "metadata": {},
   "outputs": [],
   "source": [
    "# renaissance_dataset.iloc[:, 1:][:5]"
   ]
  },
  {
   "cell_type": "code",
   "execution_count": null,
   "metadata": {},
   "outputs": [],
   "source": [
    "# renaissance_dataset.loc[:, ['allocation_size', 'young_gen_total_objects']]"
   ]
  },
  {
   "cell_type": "code",
   "execution_count": null,
   "metadata": {},
   "outputs": [],
   "source": [
    "# renaissance_dataset['gc_time']"
   ]
  },
  {
   "cell_type": "code",
   "execution_count": null,
   "metadata": {},
   "outputs": [],
   "source": [
    "# renaissance_dataset[[\n",
    "# #     'allocation_size',                  \n",
    "# #     'young_gen_total_objects',\n",
    "# #     'stringtable_size',\n",
    "# #     'prune_nmethod_time',\n",
    "# #     'stringtable_time',\n",
    "# #     'young_gen_gc_time',\n",
    "# #     'young_gen_heap_used',\n",
    "# #     'young_gen_heap_free',\n",
    "#     'gc_id',\n",
    "# #     'allocation_size',\n",
    "# #     'otyrt_distance',\n",
    "#     'otyrt_slice_counter',\n",
    "#     'otyrt_dirty_card_counter',\n",
    "#     'otyrt_objects_scanned_counter',\n",
    "#     'otyrt_total_max_card_pointer_being_walked_through',\n",
    "#     'otyrt_card_increment_counter',\n",
    "#     'otyrt_time',\n",
    "# #     'gc_time_clean',\n",
    "# #     'gc_time',\n",
    "# ]][:100]"
   ]
  },
  {
   "cell_type": "code",
   "execution_count": null,
   "metadata": {},
   "outputs": [],
   "source": [
    "#     'otyrt_distance',\n",
    "#     'otyrt_slice_counter',\n",
    "#     'otyrt_dirty_card_counter',\n",
    "#     'otyrt_objects_scanned_counter',\n",
    "#     'otyrt_total_max_card_pointer_being_walked_through',\n",
    "#     'otyrt_time',\n",
    "dat = renaissance_dataset[renaissance_dataset['otyrt_time'] < 1500]\n",
    "\n",
    "\n",
    "\n",
    "dat.plot.scatter(\n",
    "    x='otyrt_distance',\n",
    "    y='otyrt_time',\n",
    "    figsize=(5, 5), \n",
    "    color='r')\n",
    "\n",
    "dat.plot.scatter(\n",
    "    x='otyrt_slice_counter',\n",
    "    y='otyrt_time',\n",
    "    figsize=(5, 5), \n",
    "    color='r')\n",
    "\n",
    "dat.plot.scatter(\n",
    "    x='otyrt_dirty_card_counter',\n",
    "    y='otyrt_time',\n",
    "    figsize=(5, 5), \n",
    "    color='r')\n",
    "\n",
    "dat.plot.scatter(\n",
    "    x='otyrt_objects_scanned_counter',\n",
    "    y='otyrt_time',\n",
    "    figsize=(5, 5), \n",
    "    color='r')\n",
    "\n",
    "dat.plot.scatter(\n",
    "    x='otyrt_card_increment_counter',\n",
    "    y='otyrt_time',\n",
    "    figsize=(5, 5), \n",
    "#     linewidth=2.5,\n",
    "    color='g')\n",
    "\n",
    "#     linewidth=2.5)\n",
    "dat.plot.scatter(\n",
    "    x='otyrt_total_max_card_pointer_being_walked_through',\n",
    "    y='otyrt_time',\n",
    "    figsize=(5, 5), \n",
    "#     linewidth=2.5,\n",
    "    color='g')\n",
    "\n",
    "# plt.xlabel(\"OTYRT distance\", labelpad=15)\n",
    "# plt.ylabel(\"OTYRT Time\", labelpad=15)\n",
    "# plt.title(\"Renaissance\", y=1.02, fontsize=22)"
   ]
  },
  {
   "cell_type": "code",
   "execution_count": null,
   "metadata": {},
   "outputs": [],
   "source": [
    "renaissance_dataset['gc_time'][renaissance_dataset['gc_time_clean'] < 500].plot(figsize=(12, 10), linewidth=2.5)\n",
    "plt.xlabel(\"GC ID\", labelpad=15)\n",
    "plt.ylabel(\"GC Time\", labelpad=15)\n",
    "plt.title(\"Renaissance\", y=1.02, fontsize=22)"
   ]
  },
  {
   "cell_type": "code",
   "execution_count": null,
   "metadata": {},
   "outputs": [],
   "source": []
  }
 ],
 "metadata": {
  "kernelspec": {
   "display_name": "Python 3",
   "language": "python",
   "name": "python3"
  },
  "language_info": {
   "codemirror_mode": {
    "name": "ipython",
    "version": 3
   },
   "file_extension": ".py",
   "mimetype": "text/x-python",
   "name": "python",
   "nbconvert_exporter": "python",
   "pygments_lexer": "ipython3",
   "version": "3.7.6"
  }
 },
 "nbformat": 4,
 "nbformat_minor": 4
}
