{
 "cells": [
  {
   "cell_type": "code",
   "execution_count": null,
   "metadata": {},
   "outputs": [],
   "source": [
    "import pandas as pd\n",
    "import matplotlib.pyplot as plt"
   ]
  },
  {
   "cell_type": "code",
   "execution_count": null,
   "metadata": {},
   "outputs": [],
   "source": [
    "# pd.set_option('display.max_rows', 500)\n",
    "# pd.set_option('display.max_columns', 500)"
   ]
  },
  {
   "cell_type": "code",
   "execution_count": null,
   "metadata": {},
   "outputs": [],
   "source": [
    "renaissance_dataset = pd.read_csv('../data/single_thread_512M/renaissance.csv')"
   ]
  },
  {
   "cell_type": "code",
   "execution_count": null,
   "metadata": {},
   "outputs": [],
   "source": [
    "renaissance_dataset"
   ]
  },
  {
   "cell_type": "code",
   "execution_count": null,
   "metadata": {},
   "outputs": [],
   "source": [
    "# renaissance_dataset[''].iloc[1500:].plot()"
   ]
  },
  {
   "cell_type": "code",
   "execution_count": null,
   "metadata": {},
   "outputs": [],
   "source": [
    "# renaissance_dataset.iloc[:, 1:][:5]"
   ]
  },
  {
   "cell_type": "code",
   "execution_count": null,
   "metadata": {},
   "outputs": [],
   "source": [
    "# renaissance_dataset.loc[:, ['allocation_size', 'young_gen_total_objects']]"
   ]
  },
  {
   "cell_type": "code",
   "execution_count": null,
   "metadata": {},
   "outputs": [],
   "source": [
    "# renaissance_dataset['gc_time']"
   ]
  },
  {
   "cell_type": "code",
   "execution_count": null,
   "metadata": {},
   "outputs": [],
   "source": [
    "# renaissance_dataset[[\n",
    "# #     'allocation_size',                  \n",
    "# #     'young_gen_total_objects',\n",
    "# #     'stringtable_size',\n",
    "# #     'prune_nmethod_time',\n",
    "# #     'stringtable_time',\n",
    "# #     'young_gen_gc_time',\n",
    "# #     'young_gen_heap_used',\n",
    "# #     'young_gen_heap_free',\n",
    "#     'gc_id',\n",
    "# #     'allocation_size',\n",
    "# #     'otyrt_distance',\n",
    "#     'otyrt_slice_counter',\n",
    "#     'otyrt_dirty_card_counter',\n",
    "#     'otyrt_objects_scanned_counter',\n",
    "#     'otyrt_total_max_card_pointer_being_walked_through',\n",
    "#     'otyrt_card_increment_counter',\n",
    "#     'otyrt_time',\n",
    "# #     'gc_time_clean',\n",
    "# #     'gc_time',\n",
    "# ]][:100]"
   ]
  },
  {
   "cell_type": "code",
   "execution_count": null,
   "metadata": {},
   "outputs": [],
   "source": [
    "#     'otyrt_distance',\n",
    "#     'otyrt_slice_counter',\n",
    "#     'otyrt_dirty_card_counter',\n",
    "#     'otyrt_objects_scanned_counter',\n",
    "#     'otyrt_total_max_card_pointer_being_walked_through',\n",
    "#     'otyrt_time',\n",
    "dat = renaissance_dataset[renaissance_dataset['otyrt_time'] < 1500]\n",
    "\n",
    "\n",
    "\n",
    "dat.plot.scatter(\n",
    "    x='otyrt_distance',\n",
    "    y='otyrt_time',\n",
    "    figsize=(5, 5), \n",
    "    color='r')\n",
    "\n",
    "dat.plot.scatter(\n",
    "    x='otyrt_slice_counter',\n",
    "    y='otyrt_time',\n",
    "    figsize=(5, 5), \n",
    "    color='r')\n",
    "\n",
    "dat.plot.scatter(\n",
    "    x='otyrt_dirty_card_counter',\n",
    "    y='otyrt_time',\n",
    "    figsize=(5, 5), \n",
    "    color='r')\n",
    "\n",
    "dat.plot.scatter(\n",
    "    x='otyrt_objects_scanned_counter',\n",
    "    y='otyrt_time',\n",
    "    figsize=(5, 5), \n",
    "    color='r')\n",
    "\n",
    "dat.plot.scatter(\n",
    "    x='otyrt_card_increment_counter',\n",
    "    y='otyrt_time',\n",
    "    figsize=(5, 5), \n",
    "#     linewidth=2.5,\n",
    "    color='g')\n",
    "\n",
    "#     linewidth=2.5)\n",
    "dat.plot.scatter(\n",
    "    x='otyrt_total_max_card_pointer_being_walked_through',\n",
    "    y='otyrt_time',\n",
    "    figsize=(5, 5), \n",
    "#     linewidth=2.5,\n",
    "    color='g')\n",
    "\n",
    "# plt.xlabel(\"OTYRT distance\", labelpad=15)\n",
    "# plt.ylabel(\"OTYRT Time\", labelpad=15)\n",
    "# plt.title(\"Renaissance\", y=1.02, fontsize=22)"
   ]
  },
  {
   "cell_type": "code",
   "execution_count": null,
   "metadata": {},
   "outputs": [],
   "source": [
    "renaissance_dataset['gc_time'][renaissance_dataset['gc_time_clean'] < 500].plot(figsize=(12, 10), linewidth=2.5)\n",
    "plt.xlabel(\"GC ID\", labelpad=15)\n",
    "plt.ylabel(\"GC Time\", labelpad=15)\n",
    "plt.title(\"Renaissance\", y=1.02, fontsize=22)"
   ]
  },
  {
   "cell_type": "code",
   "execution_count": null,
   "metadata": {},
   "outputs": [],
   "source": []
  }
 ],
 "metadata": {
  "kernelspec": {
   "display_name": "Python 3",
   "language": "python",
   "name": "python3"
  },
  "language_info": {
   "codemirror_mode": {
    "name": "ipython",
    "version": 3
   },
   "file_extension": ".py",
   "mimetype": "text/x-python",
   "name": "python",
   "nbconvert_exporter": "python",
   "pygments_lexer": "ipython3",
   "version": "3.7.6"
  }
 },
 "nbformat": 4,
 "nbformat_minor": 4
}
